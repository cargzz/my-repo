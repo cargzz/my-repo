{
 "cells": [
  {
   "cell_type": "markdown",
   "id": "a0c80bca-cd54-44f4-ab4a-21dac6278667",
   "metadata": {},
   "source": [
    "# Notes week 2"
   ]
  },
  {
   "cell_type": "code",
   "execution_count": 1,
   "id": "5ce00d42-cc71-48e9-8fa1-d5cda69fc011",
   "metadata": {},
   "outputs": [
    {
     "name": "stdin",
     "output_type": "stream",
     "text": [
      "Name:  Carlota\n"
     ]
    }
   ],
   "source": [
    "name=input(\"Name: \")"
   ]
  },
  {
   "cell_type": "code",
   "execution_count": 3,
   "id": "782ba4d4-87e4-413b-8aa5-d7be7adde223",
   "metadata": {},
   "outputs": [
    {
     "name": "stdout",
     "output_type": "stream",
     "text": [
      "h\n",
      "i\n",
      "\n",
      "\n"
     ]
    }
   ],
   "source": [
    "with open('../test.txt','r') as f:\n",
    "    for line in f:\n",
    "        for letter in line:\n",
    "            print(letter)"
   ]
  },
  {
   "cell_type": "code",
   "execution_count": 4,
   "id": "55aa3f73-fd3f-498d-b8bb-ca619b2362d4",
   "metadata": {},
   "outputs": [],
   "source": [
    "with open('../test.txt','w') as f:\n",
    "    f.write(\"hiiii\")"
   ]
  },
  {
   "cell_type": "code",
   "execution_count": 5,
   "id": "500640d7-641d-4bdf-8c7d-adc665383998",
   "metadata": {},
   "outputs": [
    {
     "name": "stdout",
     "output_type": "stream",
     "text": [
      "h\n",
      "i\n",
      "i\n",
      "i\n",
      "i\n"
     ]
    }
   ],
   "source": [
    "with open('../test.txt','r') as f:\n",
    "    for line in f:\n",
    "        for letter in line:\n",
    "            print(letter)"
   ]
  },
  {
   "cell_type": "code",
   "execution_count": null,
   "id": "cb067f8e-cc4d-4861-8e68-709a9ffb6e9f",
   "metadata": {},
   "outputs": [],
   "source": []
  }
 ],
 "metadata": {
  "kernelspec": {
   "display_name": "Python 3 (ipykernel)",
   "language": "python",
   "name": "python3"
  },
  "language_info": {
   "codemirror_mode": {
    "name": "ipython",
    "version": 3
   },
   "file_extension": ".py",
   "mimetype": "text/x-python",
   "name": "python",
   "nbconvert_exporter": "python",
   "pygments_lexer": "ipython3",
   "version": "3.10.18"
  }
 },
 "nbformat": 4,
 "nbformat_minor": 5
}
