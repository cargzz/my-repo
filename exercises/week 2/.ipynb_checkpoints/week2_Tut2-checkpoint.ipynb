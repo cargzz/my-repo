{
 "cells": [
  {
   "cell_type": "markdown",
   "metadata": {
    "cell_id": "00000-02bed928-a705-4cae-bf8a-f786a301963f",
    "deepnote_cell_type": "markdown",
    "tags": []
   },
   "source": [
    "# Week 2: Tutorial - Carlota González (cargzz)"
   ]
  },
  {
   "cell_type": "markdown",
   "metadata": {
    "cell_id": "00005-6a6f2e0a-4e96-4550-94f6-3ac347021b96",
    "deepnote_cell_type": "markdown",
    "tags": []
   },
   "source": [
    "## Exercise 1: Convert Decimal To Ten Bit Binary String\n",
    "\n",
    "In this exercise we want to convert a decimal number to a binary string with exactly ten character bits. For example,\n",
    "\n",
    " $$ 1_{decimal} = 1_{binary} = 0000000001_{binary} $$ \n",
    "\n",
    " or\n",
    "\n",
    "  $$ 10_{decimal} = 1010_{binary} = 0000001010_{binary} $$\n",
    "\n",
    "Create code that converts a decimal to binary, `bin(decimal)`, removes the proceding `0b`, and adds in the required amount of 0s to make it a ten character string. If the binary has more than ten bits, slice the string so it contains only the last 10 bits. Prompt the user with the `input()` function for a decimal number.\n",
    "\n",
    "*Hint:* `bin(decimal)` *returns a string. Can use string manipulation, and a conditional to differentiate between strings with less than or more than ten bits.*"
   ]
  },
  {
   "cell_type": "code",
   "execution_count": 6,
   "metadata": {
    "cell_id": "00003-4a8133ee-2401-4047-928e-353954bc9b6a",
    "deepnote_cell_type": "code",
    "deepnote_to_be_reexecuted": false,
    "execution_millis": 5242,
    "execution_start": 1624624835893,
    "source_hash": "4ebce97f",
    "tags": []
   },
   "outputs": [
    {
     "name": "stdin",
     "output_type": "stream",
     "text": [
      "Enter a decimal number:  745\n"
     ]
    },
    {
     "name": "stdout",
     "output_type": "stream",
     "text": [
      "1011101001\n"
     ]
    }
   ],
   "source": [
    "decimal = int(input(\"Enter a decimal number: \")) # prompt user for a decimal number\n",
    "\n",
    "binary = bin(decimal)[2:] # slice the string starting from index 2 (skips \"0b\")\n",
    "\n",
    "if len(binary)<10:\n",
    "    zeros_needed = 10 - len(binary)\n",
    "    binary = \"0\" * zeros_needed + binary   # add zeros to the left\n",
    "    \n",
    "if len(binary)>10:\n",
    "    binary = binary[-10:]   # keep only last 10 bits\n",
    "\n",
    "print(binary)"
   ]
  },
  {
   "cell_type": "markdown",
   "metadata": {
    "cell_id": "00004-0f967908-ea56-4c30-b3e7-8211a547ba95",
    "deepnote_cell_type": "markdown",
    "tags": []
   },
   "source": [
    "If we wanted to make the number of bits an arbitrary amount, rather than just 10, rewrite the code in such a way to accomplish this."
   ]
  },
  {
   "cell_type": "code",
   "execution_count": 7,
   "metadata": {
    "cell_id": "00005-e525407c-206f-4ca0-876e-06357963983c",
    "deepnote_cell_type": "code",
    "deepnote_to_be_reexecuted": false,
    "execution_millis": 11452,
    "execution_start": 1624625002859,
    "source_hash": "ffa7d701",
    "tags": []
   },
   "outputs": [
    {
     "name": "stdin",
     "output_type": "stream",
     "text": [
      "Enter a decimal number:  745\n",
      "Enter number of bits:  12\n"
     ]
    },
    {
     "name": "stdout",
     "output_type": "stream",
     "text": [
      "001011101001\n"
     ]
    }
   ],
   "source": [
    "decimal = int(input(\"Enter a decimal number: \"))\n",
    "bits = int(input(\"Enter number of bits: \"))\n",
    "\n",
    "binary=bin(decimal)[2:]\n",
    "\n",
    "if len(binary)<bits:\n",
    "    zeros_needed = bits - len(binary)\n",
    "    binary = \"0\" * zeros_needed + binary   # add zeros to the left\n",
    "\n",
    "if len(binary)>bits:\n",
    "    binary = binary[-bits:]\n",
    "\n",
    "print(binary)"
   ]
  },
  {
   "cell_type": "markdown",
   "metadata": {
    "cell_id": "00006-1b21ff2a-197f-41be-ad40-069aa19da779",
    "deepnote_cell_type": "markdown",
    "tags": []
   },
   "source": [
    "Given some arbitrary fixed number of bits, what is the largest decimal number you can represent with those bits? "
   ]
  },
  {
   "cell_type": "code",
   "execution_count": 8,
   "metadata": {},
   "outputs": [
    {
     "name": "stdin",
     "output_type": "stream",
     "text": [
      "Enter a decimal number:  745\n",
      "Enter number of bits:  12\n"
     ]
    },
    {
     "name": "stdout",
     "output_type": "stream",
     "text": [
      "12-bit binary: 001011101001\n",
      "Largest decimal with 12 bits: 4095\n"
     ]
    }
   ],
   "source": [
    "decimal = int(input(\"Enter a decimal number: \"))\n",
    "bits = int(input(\"Enter number of bits: \"))\n",
    "\n",
    "binary=bin(decimal)[2:]\n",
    "\n",
    "if len(binary)<bits:\n",
    "    zeros_needed = bits - len(binary)\n",
    "    binary = \"0\" * zeros_needed + binary   # add zeros to the left\n",
    "\n",
    "if len(binary)>bits:\n",
    "    binary = binary[-bits:]\n",
    "\n",
    "max_decimal = (2 ** bits) - 1 # largest decimal number for n bits is 2^n - 1\n",
    "\n",
    "print(f\"{bits}-bit binary:\", binary)\n",
    "print(f\"Largest decimal with {bits} bits:\", max_decimal)"
   ]
  },
  {
   "cell_type": "markdown",
   "metadata": {
    "cell_id": "00008-be83c5e7-f89f-4e23-acc3-fa520126e77c",
    "deepnote_cell_type": "markdown",
    "tags": []
   },
   "source": [
    "## Exercise 2: For Loops, Sequence Sum\n",
    "\n",
    "Prompt the user to input a positive integer number $n$. Calculate the sum $$1+2+3+...+n $$ using a for loop. Print the answer"
   ]
  },
  {
   "cell_type": "code",
   "execution_count": 13,
   "metadata": {},
   "outputs": [
    {
     "name": "stdin",
     "output_type": "stream",
     "text": [
      "Enter a positive integer:  14\n"
     ]
    },
    {
     "name": "stdout",
     "output_type": "stream",
     "text": [
      "Sum using loop = 105\n"
     ]
    }
   ],
   "source": [
    "integer=int(input(\"Enter a positive integer: \"))\n",
    "\n",
    "sum_loop = 0\n",
    "for i in range(1, integer+1):\n",
    "    sum_loop += i\n",
    "\n",
    "print(\"Sum using loop =\", sum_loop)"
   ]
  },
  {
   "cell_type": "markdown",
   "metadata": {
    "cell_id": "00010-7e5952bc-a05b-441d-af41-7799925b06c8",
    "deepnote_cell_type": "markdown",
    "tags": []
   },
   "source": [
    "Alternatively, we could use the formula $$1+2+3+...+n = \\frac{n(n+1)}{2}$$. Check to see our for loop returns the value obtained from the formula. Print a Boolean answer."
   ]
  },
  {
   "cell_type": "code",
   "execution_count": 16,
   "metadata": {
    "cell_id": "00011-b8b03db6-14c8-4fa2-9053-16bc5c8dc793",
    "deepnote_cell_type": "code",
    "deepnote_to_be_reexecuted": false,
    "execution_millis": 4634,
    "execution_start": 1624626259471,
    "source_hash": "35d99a26",
    "tags": []
   },
   "outputs": [
    {
     "name": "stdout",
     "output_type": "stream",
     "text": [
      "Sum using formula = 105\n",
      "Do they match? True\n"
     ]
    }
   ],
   "source": [
    "sum_formula = integer * (integer + 1) // 2   # use integer division\n",
    "print(\"Sum using formula =\", sum_formula)\n",
    "\n",
    "print(\"Do they match?\", sum_loop == sum_formula)"
   ]
  },
  {
   "cell_type": "markdown",
   "metadata": {
    "cell_id": "00012-260a1fd2-b9b3-4bae-bf0d-62171ddc35e0",
    "deepnote_cell_type": "markdown",
    "tags": []
   },
   "source": [
    "## Exercise 3: While Loops, Reverse A Given Number\n",
    "\n",
    "Prompt the user to input a positive integer number and reverse the number. For example: $$ 257864 \\rightarrow 468752 $$ \n",
    "\n",
    "(Hint: 257864 % 10 = 4)"
   ]
  },
  {
   "cell_type": "code",
   "execution_count": 18,
   "metadata": {},
   "outputs": [
    {
     "name": "stdin",
     "output_type": "stream",
     "text": [
      "Enter a positive integer:  257864\n"
     ]
    },
    {
     "name": "stdout",
     "output_type": "stream",
     "text": [
      "Reversed number = 468752\n"
     ]
    }
   ],
   "source": [
    "number = int(input(\"Enter a positive integer: \"))\n",
    "\n",
    "reverse = 0\n",
    "while number > 0:\n",
    "    digit = number % 10          \n",
    "    reverse = reverse * 10 + digit  \n",
    "    number = number // 10        \n",
    "\n",
    "print(\"Reversed number =\", reverse)"
   ]
  },
  {
   "cell_type": "markdown",
   "metadata": {
    "cell_id": "00014-28951a3c-5d31-4939-b230-caba0222b9fd",
    "deepnote_cell_type": "markdown",
    "tags": []
   },
   "source": [
    "## Exercise 4: List Comprehensions\n",
    "\n",
    "Create a list of all the even numbers from 0 $\\rightarrow$ 1000 that are not divisible by 4."
   ]
  },
  {
   "cell_type": "code",
   "execution_count": 20,
   "metadata": {
    "cell_id": "00015-b0fe9d20-d77a-4ab0-a3ae-6e0453f629b6",
    "deepnote_cell_type": "code",
    "deepnote_to_be_reexecuted": false,
    "execution_millis": 1,
    "execution_start": 1624887079369,
    "source_hash": "a665de46",
    "tags": []
   },
   "outputs": [
    {
     "name": "stdout",
     "output_type": "stream",
     "text": [
      "[2, 6, 10, 14, 18, 22, 26, 30, 34, 38, 42, 46, 50, 54, 58, 62, 66, 70, 74, 78, 82, 86, 90, 94, 98, 102, 106, 110, 114, 118, 122, 126, 130, 134, 138, 142, 146, 150, 154, 158, 162, 166, 170, 174, 178, 182, 186, 190, 194, 198, 202, 206, 210, 214, 218, 222, 226, 230, 234, 238, 242, 246, 250, 254, 258, 262, 266, 270, 274, 278, 282, 286, 290, 294, 298, 302, 306, 310, 314, 318, 322, 326, 330, 334, 338, 342, 346, 350, 354, 358, 362, 366, 370, 374, 378, 382, 386, 390, 394, 398, 402, 406, 410, 414, 418, 422, 426, 430, 434, 438, 442, 446, 450, 454, 458, 462, 466, 470, 474, 478, 482, 486, 490, 494, 498, 502, 506, 510, 514, 518, 522, 526, 530, 534, 538, 542, 546, 550, 554, 558, 562, 566, 570, 574, 578, 582, 586, 590, 594, 598, 602, 606, 610, 614, 618, 622, 626, 630, 634, 638, 642, 646, 650, 654, 658, 662, 666, 670, 674, 678, 682, 686, 690, 694, 698, 702, 706, 710, 714, 718, 722, 726, 730, 734, 738, 742, 746, 750, 754, 758, 762, 766, 770, 774, 778, 782, 786, 790, 794, 798, 802, 806, 810, 814, 818, 822, 826, 830, 834, 838, 842, 846, 850, 854, 858, 862, 866, 870, 874, 878, 882, 886, 890, 894, 898, 902, 906, 910, 914, 918, 922, 926, 930, 934, 938, 942, 946, 950, 954, 958, 962, 966, 970, 974, 978, 982, 986, 990, 994, 998]\n"
     ]
    }
   ],
   "source": [
    "evens_not4 = [x for x in range(0, 1001) if x % 2 == 0 and x % 4 != 0]\n",
    "print(evens_not4)"
   ]
  },
  {
   "cell_type": "markdown",
   "metadata": {
    "cell_id": "00016-adf0bceb-b5d9-41e2-8fd5-9bd47d8f28b2",
    "deepnote_cell_type": "markdown",
    "tags": []
   },
   "source": [
    "A year is a leap year when it is divisible by 4, not divisible by 100 unless it is divisible by 400. Create a list containing leap years from year $1890 \\rightarrow 2050$"
   ]
  },
  {
   "cell_type": "code",
   "execution_count": 21,
   "metadata": {
    "cell_id": "00016-8e7bef0f-7161-4ee9-b9c7-1b82145a6b93",
    "deepnote_cell_type": "code",
    "deepnote_to_be_reexecuted": false,
    "execution_millis": 7,
    "execution_start": 1624889493881,
    "source_hash": "14117288",
    "tags": []
   },
   "outputs": [
    {
     "name": "stdout",
     "output_type": "stream",
     "text": [
      "[1892, 1896, 1904, 1908, 1912, 1916, 1920, 1924, 1928, 1932, 1936, 1940, 1944, 1948, 1952, 1956, 1960, 1964, 1968, 1972, 1976, 1980, 1984, 1988, 1992, 1996, 2000, 2004, 2008, 2012, 2016, 2020, 2024, 2028, 2032, 2036, 2040, 2044, 2048]\n"
     ]
    }
   ],
   "source": [
    "leap_years = [y for y in range(1890, 2051) if (y % 4 == 0 and y % 100 != 0) or (y % 400 == 0)]\n",
    "print(leap_years)"
   ]
  },
  {
   "cell_type": "markdown",
   "metadata": {},
   "source": [
    "Make a list of all the primes less than 100."
   ]
  },
  {
   "cell_type": "code",
   "execution_count": 22,
   "metadata": {},
   "outputs": [
    {
     "name": "stdout",
     "output_type": "stream",
     "text": [
      "[2, 3, 5, 7, 11, 13, 17, 19, 23, 29, 31, 37, 41, 43, 47, 53, 59, 61, 67, 71, 73, 79, 83, 89, 97]\n"
     ]
    }
   ],
   "source": [
    "primes = [p for p in range(2, 100) # p = prime number, d = divisors from 2 to square root of p\n",
    "          if all(p % d != 0 for d in range(2, int(p**0.5) + 1))] # p not divisible by any d -> p is prime\n",
    "print(primes)"
   ]
  },
  {
   "cell_type": "markdown",
   "metadata": {
    "cell_id": "00016-6f5209e4-d25b-48a3-99ea-6198f23b1c4d",
    "deepnote_cell_type": "markdown",
    "tags": []
   },
   "source": [
    "## Exercise 5: DNA\n",
    "\n",
    "Read in the file named 'DNA.txt' and count the number of times the base C occurs. A DNA sequence contains bases A,C,G and T."
   ]
  },
  {
   "cell_type": "code",
   "execution_count": 28,
   "metadata": {
    "cell_id": "00021-039bb306-ff53-48ac-b7de-335f29e5b986",
    "deepnote_cell_type": "code",
    "deepnote_to_be_reexecuted": false,
    "execution_millis": 10,
    "execution_start": 1624999994006,
    "source_hash": "6b579f38",
    "tags": []
   },
   "outputs": [
    {
     "name": "stdout",
     "output_type": "stream",
     "text": [
      "Number of C bases: 1452\n"
     ]
    }
   ],
   "source": [
    "with open(\"DNA.txt\", \"r\") as f: # open the file and read the content\n",
    "    dna_sequence = f.read()\n",
    "\n",
    "count_C = dna_sequence.count(\"C\")\n",
    "\n",
    "print(\"Number of C bases:\", count_C)"
   ]
  },
  {
   "cell_type": "markdown",
   "metadata": {},
   "source": [
    "## Exercise 6: Collatz Conjecture\n",
    "If we take any positive integer and if it's even divide it by two and if it's odd multiply it by three and add one. Do this successivly again and again. Verify that we always get back to 1."
   ]
  },
  {
   "cell_type": "code",
   "execution_count": 30,
   "metadata": {},
   "outputs": [
    {
     "name": "stdin",
     "output_type": "stream",
     "text": [
      "Enter a positive integer:  3\n"
     ]
    },
    {
     "name": "stdout",
     "output_type": "stream",
     "text": [
      "Collatz sequence:\n",
      "3\n",
      "10\n",
      "5\n",
      "16\n",
      "8\n",
      "4\n",
      "2\n",
      "1\n"
     ]
    }
   ],
   "source": [
    "n = int(input(\"Enter a positive integer: \"))\n",
    "\n",
    "print(\"Collatz sequence:\")\n",
    "while n != 1:\n",
    "    print(n, end=\"\\n\")\n",
    "    if n % 2 == 0:\n",
    "        n = n // 2       # even\n",
    "    else:\n",
    "        n = 3*n + 1    # odd\n",
    "print(1) "
   ]
  },
  {
   "cell_type": "markdown",
   "metadata": {},
   "source": [
    "## Exercise 7: Fizz Buzz\n",
    "Print out numbers in order. Every time there is a multiple of 3 print 'Fizz' instead. Every time there is a multiple of 5 print 'Buzz'. Every time there is both print 'Fizz Buzz'."
   ]
  },
  {
   "cell_type": "code",
   "execution_count": 33,
   "metadata": {},
   "outputs": [
    {
     "name": "stdout",
     "output_type": "stream",
     "text": [
      "1\n",
      "2\n",
      "Fizz\n",
      "4\n",
      "Buzz\n",
      "Fizz\n",
      "7\n",
      "8\n",
      "Fizz\n",
      "Buzz\n",
      "11\n",
      "Fizz\n",
      "13\n",
      "14\n",
      "Fizz Buzz\n",
      "16\n",
      "17\n",
      "Fizz\n",
      "19\n",
      "Buzz\n",
      "Fizz\n",
      "22\n",
      "23\n",
      "Fizz\n",
      "Buzz\n",
      "26\n",
      "Fizz\n",
      "28\n",
      "29\n",
      "Fizz Buzz\n",
      "31\n",
      "32\n",
      "Fizz\n",
      "34\n",
      "Buzz\n",
      "Fizz\n",
      "37\n",
      "38\n",
      "Fizz\n",
      "Buzz\n",
      "41\n",
      "Fizz\n",
      "43\n",
      "44\n",
      "Fizz Buzz\n",
      "46\n",
      "47\n",
      "Fizz\n",
      "49\n",
      "Buzz\n"
     ]
    }
   ],
   "source": [
    "# Up to 50\n",
    "for i in range(1, 51):\n",
    "    if i % 3 == 0 and i % 5 == 0:\n",
    "        print(\"Fizz Buzz\")\n",
    "    elif i % 3 == 0:\n",
    "        print(\"Fizz\")\n",
    "    elif i % 5 == 0:\n",
    "        print(\"Buzz\")\n",
    "    else:\n",
    "        print(i)"
   ]
  },
  {
   "cell_type": "code",
   "execution_count": null,
   "metadata": {},
   "outputs": [],
   "source": []
  }
 ],
 "metadata": {
  "deepnote": {
   "is_reactive": false
  },
  "deepnote_execution_queue": [],
  "deepnote_notebook_id": "306c39d2-aca8-4e42-8856-f5e25ad02ff5",
  "kernelspec": {
   "display_name": "Python 3 (ipykernel)",
   "language": "python",
   "name": "python3"
  },
  "language_info": {
   "codemirror_mode": {
    "name": "ipython",
    "version": 3
   },
   "file_extension": ".py",
   "mimetype": "text/x-python",
   "name": "python",
   "nbconvert_exporter": "python",
   "pygments_lexer": "ipython3",
   "version": "3.10.18"
  }
 },
 "nbformat": 4,
 "nbformat_minor": 4
}
